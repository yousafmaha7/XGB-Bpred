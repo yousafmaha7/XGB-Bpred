{
 "cells": [
  {
   "cell_type": "code",
   "execution_count": null,
   "metadata": {},
   "outputs": [],
   "source": [
    "conda create -n pfeature_env python=3.8\n",
    "\n",
    "conda activate pfeature_env\n",
    "\n",
    "conda deactivate\n",
    "\n",
    "conda activate pfeature_env\n",
    "\n",
    "conda install pandas\n",
    "\n",
    "conda list pandas\n",
    "\n",
    "conda install pandas=1.5.3\n",
    "\n",
    "conda list pandas\n",
    "\n",
    "conda install numpy\n",
    "\n",
    "conda install tqdm\n",
    "\n",
    "\n",
    "python pfeature_comp.py -i Bcell.seq -o Bcell_comp.csv -j ALLCOMP\n",
    "\n",
    "python pfeature_bin.py -i Bcell.seq -o Bcell_bin.csv -j ALLBIN\n",
    "\n"
   ]
  }
 ],
 "metadata": {
  "language_info": {
   "name": "python"
  }
 },
 "nbformat": 4,
 "nbformat_minor": 2
}
